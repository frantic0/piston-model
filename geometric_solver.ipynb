{
 "cells": [
  {
   "cell_type": "code",
   "execution_count": 10,
   "metadata": {},
   "outputs": [],
   "source": [
    "import sys\n",
    "import math as math\n",
    "import numpy as np"
   ]
  },
  {
   "cell_type": "code",
   "execution_count": 11,
   "metadata": {},
   "outputs": [],
   "source": [
    "def rectangular_grid_to_coordinates( rows, columns, pitch ):\n",
    "    \n",
    "    num_points = columns * rows\n",
    "    \n",
    "    x_coords = np.linspace(-pitch * (columns - 1) / 2, \n",
    "                            pitch * (columns - 1) / 2, \n",
    "                            columns )\n",
    "     \n",
    "    y_coords = np.linspace(-pitch * (rows - 1) / 2, \n",
    "                            pitch * (rows - 1) / 2, \n",
    "                            rows )\n",
    "    \n",
    "    return np.array([ (x, y, 0.0) for x in x_coords for y in y_coords])"
   ]
  },
  {
   "cell_type": "code",
   "execution_count": 12,
   "metadata": {},
   "outputs": [],
   "source": [
    "def hexagon_diameter_to_coordinates( d, x_spacing=10.5/1000, y_spacing=9/1000 ) -> list((float, float, float)): \n",
    "    \"\"\"\n",
    "    Coordinate system for d-transducers diameter hexagon. Centrepoint of central transducer is at origin (0,0,0).\n",
    "    Array begins with the bottom left transducer.\n",
    "    \n",
    "    args: \n",
    "        d:          diameter of hexagon (longest row) in transducer units \n",
    "        x_spacing:  interspacing between elements in the x axis\n",
    "        y_spacing:  interspacing between elements in the y axis\n",
    "        f_tran:     focal length of the PAT [m]\n",
    "    \n",
    "    returns:\n",
    "        coords: nx3 array of coords for this hexagon, with [0, 0, 0] as the centrepoint.\n",
    "    \"\"\"\n",
    "    \n",
    "    # from the diameter in transducer units (central and longest row) calculate array with transducers count \n",
    "    # for bottom row up to central row:    \n",
    "    bottom_to_central_row_tran_count = np.arange(np.floor((d+1)/2), np.floor(d+1), 1, dtype=int)\n",
    "\n",
    "    # calculate array with rows' transducers count:\n",
    "    rows_transducer_count = np.concatenate( (   bottom_to_central_row_tran_count,\n",
    "                                                np.flip( bottom_to_central_row_tran_count )[1:]), \n",
    "                                            axis=0)\n",
    "    coords = []   \n",
    "    # for each row, depending on whether it is offset or not (i.e. shifted in relation to central row), \n",
    "    # calculate and assign X Y coordinates to each transducer:\n",
    "    for row, row_length in enumerate(rows_transducer_count):\n",
    "        for elem in range(row_length):      \n",
    "            coord_x = x_spacing * ( elem - row_length/2 + .5 )\n",
    "            coord_y = -sys.maxsize - 1\n",
    "            coord_z = 0\n",
    "            \n",
    "            if d % 2 != 0:\n",
    "                coord_y = y_spacing * (row - (d-1)/2)\n",
    "            else:\n",
    "                coord_y = y_spacing * (row - d/2)\n",
    "                \n",
    "            coords.append((coord_x, coord_y, coord_z))  \n",
    "    \n",
    "    return np.array(coords)"
   ]
  },
  {
   "cell_type": "code",
   "execution_count": 13,
   "metadata": {},
   "outputs": [],
   "source": [
    "# reference sound pressure level for airborne sound is 20 micropascals (μPa or e-6) or 15.849 μPa\n",
    "db_spl_to_pascal = lambda db: 10**((db-20)/20e-6)\n",
    "\n",
    "pascal_to_db_spl = lambda pa: 20*math.log10(pa/20e-6)"
   ]
  },
  {
   "cell_type": "code",
   "execution_count": 14,
   "metadata": {},
   "outputs": [],
   "source": [
    "\n",
    "rho_a = 1.184                           # density of air at 25°C (kg/m3) \n",
    "c = 346.13                              # speed of sound in air at 25°C (m/s)\n",
    "f = 40000                               # frequency (Hz)\n",
    "\n",
    "_lambda = lambda f: c/f                 # wavelength (m)\n",
    "\n",
    "_k = lambda f: 2 * math.pi/_lambda(f)   # wavenumber (cycles/m)\n",
    "\n",
    "# Euclidean distance, 2-norm or magnitude of the vector, sqrt of the inner product of a vector with itself \n",
    "_distance = lambda pz, pt: math.sqrt( (pz[0]-pt[0])**2 + (pz[1]-pt[1])**2 + (pz[2]-pt[2])**2 )  \n",
    "\n",
    "# cross product of pz and pt over the distance between pz\n",
    "_sin_theta = lambda pz, pt: math.sqrt( (pz[0]-pt[0])**2 + (pz[1]-pt[1])**2 ) / _distance(pz, pt)  \n",
    "\n",
    "def directivity(sin_theta, k, r=4.5/1000):\n",
    "\n",
    "    # argument of 1st order Bessel function\n",
    "    bessel_J1 = k*r*sin_theta\n",
    "    \n",
    "    # taylor expansion of first order Bessel function over its agrument — J_1(bessel_J1)/bessel_J1\n",
    "    # wolframalpha.com – Series[BesselJ[1,x]/x,{x,0,10}] \n",
    "    taylor_exp = (1/2)-(bessel_J1**2/16)+(bessel_J1**4/384)-(bessel_J1**6/18432)+(bessel_J1**8/1474560)-(bessel_J1**10/176947200)+(bessel_J1**12/29727129600) \n",
    "    \n",
    "    return 2 * taylor_exp\n",
    "\n",
    "\n",
    "def reference_pressure(A=0.17, V=20): \n",
    "    \"\"\"\n",
    "    A — emitter output efficiency (Pa/m*V) \n",
    "    V — excitation signal peak-to-peak amplitude (Vpp)  \n",
    "    \"\"\"\n",
    "    return A * V    \n",
    "\n",
    "def pressure(p_ref, distance, sin_theta, k, r ):\n",
    "    return p_ref * 1/distance * directivity(sin_theta, k, r) * np.exp(1j*k*distance)"
   ]
  },
  {
   "cell_type": "code",
   "execution_count": 15,
   "metadata": {},
   "outputs": [],
   "source": [
    "def create_focusing_phasemap(T, z, k, phase_z = 0):\n",
    "    \"\"\"\n",
    "    Builds phased array phase distribution for emitters at T to create a focal point at z,\n",
    "    given a wavenumber k and \n",
    "\n",
    "    args:\n",
    "        T: spatial coordinates of emitters              [(x, y, z)]\n",
    "        z: spatial coordinates of focal point           (x, y, z)\n",
    "        k: wavenumber                                   (cycles/m)\n",
    "        phase_z: with which waves sync at focal point   (rad)\n",
    "        \n",
    "    returns:\n",
    "        phase distribution to calculate focal point, normalised [-pi, pi] (float, float)\n",
    "    \"\"\"\n",
    "    \n",
    "    # phases of the emitters computed by backpropagating from the phase at the focal point and\n",
    "    # number of cycles for the given distance based on the wavenumber \n",
    "    phases = phase_z - np.array([ _distance(z, t) for t in T ]) * k \n",
    "\n",
    "    # normalise between 0 and 2π [rads]\n",
    "    return np.remainder(phases, 2*np.pi) - np.pi\n"
   ]
  },
  {
   "cell_type": "code",
   "execution_count": 18,
   "metadata": {},
   "outputs": [
    {
     "name": "stdout",
     "output_type": "stream",
     "text": [
      "Total pressure: 3852.9229484553944 Pa – 165.69520656651196 dB SPL\n"
     ]
    }
   ],
   "source": [
    "M = 16\n",
    "N = 16\n",
    "pitch = 0.0105 # distance between the emitters centroids (m)\n",
    "r = 4.5/1000\n",
    "\n",
    "z = (0, 0, 0.15) # focal point, (m)\n",
    "\n",
    "T = rectangular_grid_to_coordinates(M, N, pitch)\n",
    "# print(T)\n",
    "\n",
    "pressures = [ abs( \n",
    "                pressure( \n",
    "                    reference_pressure(A=0.17, V=18), \n",
    "                        _distance(z, t), \n",
    "                        _sin_theta(z, t), \n",
    "                        _k(40000), \n",
    "                        r )\n",
    "                ) for t in T ] \n",
    "\n",
    "print(f'Total pressure: { sum(pressures) } Pa – { pascal_to_db_spl(sum(pressures)) } dB SPL')\n",
    "# print(*pressures, sep='\\n')\n",
    "\n",
    "phases = create_focusing_phasemap(T, z, _k(40000), phase_z=0)\n",
    "# print(phases)"
   ]
  },
  {
   "cell_type": "code",
   "execution_count": 17,
   "metadata": {},
   "outputs": [
    {
     "data": {
      "text/plain": [
       "<matplotlib.colorbar.Colorbar at 0x7f8998a68ac0>"
      ]
     },
     "execution_count": 17,
     "metadata": {},
     "output_type": "execute_result"
    },
    {
     "data": {
      "image/png": "[encoded data removed]",
      "text/plain": [
       "<Figure size 900x500 with 2 Axes>"
      ]
     },
     "metadata": {},
     "output_type": "display_data"
    }
   ],
   "source": [
    "import matplotlib.pyplot as plt\n",
    "from mpl_toolkits.axes_grid1.axes_divider import make_axes_locatable\n",
    "\n",
    "fig, (ax1, ax2) = plt.subplots(1,2, figsize=(9, 5))\n",
    "\n",
    "# plot pressure at the focal point\n",
    "im1 = ax1.imshow(np.array(pressures).reshape(16,16), plt.get_cmap(\"jet\"), origin=\"lower\", vmax=50)\n",
    "cax = ax1.inset_axes([1.02, 0.1, 0.025, 0.8]) \n",
    "plt.colorbar(im1, cax=cax)\n",
    "\n",
    "# plot phases of the transducers\n",
    "im2 = ax2.imshow(np.array(phases).reshape(M,N), origin=\"lower\")\n",
    "cax = ax2.inset_axes([1.05, 0.1, 0.05, 0.8]) \n",
    "plt.colorbar(im2, cax=cax)"
   ]
  }
 ],
 "metadata": {
  "kernelspec": {
   "display_name": "py10",
   "language": "python",
   "name": "python3"
  },
  "language_info": {
   "codemirror_mode": {
    "name": "ipython",
    "version": 3
   },
   "file_extension": ".py",
   "mimetype": "text/x-python",
   "name": "python",
   "nbconvert_exporter": "python",
   "pygments_lexer": "ipython3",
   "version": "3.10.9"
  },
  "orig_nbformat": 4
 },
 "nbformat": 4,
 "nbformat_minor": 2
}
