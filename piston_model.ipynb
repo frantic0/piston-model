{
 "cells": [
  {
   "attachments": {},
   "cell_type": "markdown",
   "metadata": {},
   "source": [
    "### Piston model:\n",
    "\n",
    "complex pressure *$P_t(p_z)$* at a point *$p_z$* due to a flat circular piston emitter at point *$p_t$*\n",
    "\n",
    "### $P_t(p_z) = \\frac{P_{ref}}{d(p_z, p_t)} \\cdot \\frac{2 \\cdot J_1(k\\cdot r\\cdot \\textrm{sin} \\theta_{zt})}{k\\cdot r\\cdot \\textrm{sin} \\theta_{zt}}\\cdot e^{i(\\phi_t + k\\cdot d(p_z,p_t))}$\n",
    "\n",
    "$ P_{ref} $ is an arbitrary variabble defined by emitter amplitude, \n",
    "\n",
    "### $P_{ref} = A \\cdot V_{pp} $\n",
    "\n",
    "where $ A $ is the emitter output efficiency\n",
    "\n",
    "and $ V_{pp} $ is the excitation signal peak-to-peak amplitude \n",
    "\n",
    "$ d(p_z, p_t) $ is the Euclidean distance between point $ p_z $ and the center of the emitter, $ p_t $ \n",
    "\n",
    "The directivity function for an emitter depends on the angle $\\theta$ between the emitter normal and point $ p_z $ \n",
    "\n",
    "### $ D_f = \\frac{2 \\cdot J_1(k\\cdot r\\cdot \\textrm{sin} \\theta_{zt})} {k\\cdot r\\cdot \\textrm{sin} \\theta_{zt}} $\n",
    "\n",
    "where $ J_1 $ is the Bessel function of the first kind, \n",
    "\n",
    "$ k=2\\pi/\\lambda $ is the wavenumber, \n",
    "\n",
    "$ r $ is the emitter radius, \n",
    "\n",
    "$ \\theta_{zt} $ is the polar angle between points $p_z$ and $p_t$, \n",
    "\n",
    "$ \\phi_t $ is the initial phase of the emitter\n",
    "\n"
   ]
  },
  {
   "cell_type": "code",
   "execution_count": 64,
   "metadata": {},
   "outputs": [],
   "source": [
    "import sys\n",
    "import math as math\n",
    "import numpy as np"
   ]
  },
  {
   "cell_type": "code",
   "execution_count": 65,
   "metadata": {},
   "outputs": [],
   "source": [
    "def rectangular_grid_to_coordinates( rows, columns, pitch ):\n",
    "    \n",
    "    num_points = columns * rows\n",
    "    \n",
    "    x_coords = np.linspace(-pitch * (columns - 1) / 2, \n",
    "                            pitch * (columns - 1) / 2, \n",
    "                            columns )\n",
    "     \n",
    "    y_coords = np.linspace(-pitch * (rows - 1) / 2, \n",
    "                            pitch * (rows - 1) / 2, \n",
    "                            rows )\n",
    "    \n",
    "    return np.array([ (x, y, 0.0) for x in x_coords for y in y_coords])"
   ]
  },
  {
   "cell_type": "code",
   "execution_count": 66,
   "metadata": {},
   "outputs": [],
   "source": [
    "def hexagon_diameter_to_coordinates( d, x_spacing=10.5/1000, y_spacing=9/1000 ) -> list((float, float, float)): \n",
    "    \"\"\"\n",
    "    Coordinate system for d-transducers diameter hexagon. Centrepoint of central transducer is at origin (0,0,0).\n",
    "    Array begins with the bottom left transducer.\n",
    "    \n",
    "    args: \n",
    "        d:          diameter of hexagon (longest row) in transducer units \n",
    "        x_spacing:  interspacing between elements in the x axis\n",
    "        y_spacing:  interspacing between elements in the y axis\n",
    "        f_tran:     focal length of the PAT [m]\n",
    "    \n",
    "    returns:\n",
    "        coords: nx3 array of coords for this hexagon, with [0, 0, 0] as the centrepoint.\n",
    "    \"\"\"\n",
    "    \n",
    "    # from the diameter in transducer units (central and longest row) calculate array with transducers count \n",
    "    # for bottom row up to central row:    \n",
    "    bottom_to_central_row_tran_count = np.arange(np.floor((d+1)/2), np.floor(d+1), 1, dtype=int)\n",
    "\n",
    "    # calculate array with rows' transducers count:\n",
    "    rows_transducer_count = np.concatenate( (   bottom_to_central_row_tran_count,\n",
    "                                                np.flip( bottom_to_central_row_tran_count )[1:]), \n",
    "                                            axis=0)\n",
    "    coords = []   \n",
    "    # for each row, depending on whether it is offset or not (i.e. shifted in relation to central row), \n",
    "    # calculate and assign X Y coordinates to each transducer:\n",
    "    for row, row_length in enumerate(rows_transducer_count):\n",
    "        for elem in range(row_length):      \n",
    "            coord_x = x_spacing * ( elem - row_length/2 + .5 )\n",
    "            coord_y = -sys.maxsize - 1\n",
    "            coord_z = 0\n",
    "            \n",
    "            if d % 2 != 0:\n",
    "                coord_y = y_spacing * (row - (d-1)/2)\n",
    "            else:\n",
    "                coord_y = y_spacing * (row - d/2)\n",
    "                \n",
    "            coords.append((coord_x, coord_y, coord_z))  \n",
    "    \n",
    "    return np.array(coords)"
   ]
  },
  {
   "cell_type": "code",
   "execution_count": 67,
   "metadata": {},
   "outputs": [],
   "source": [
    "# reference sound pressure level for airborne sound is 20 micropascals (μPa or e-6) or 15.849 μPa\n",
    "db_spl_to_pascal = lambda db: 10**((db-20)/20e-6)\n",
    "\n",
    "pascal_to_db_spl = lambda pa: 20*math.log10(pa/20e-6)"
   ]
  },
  {
   "cell_type": "code",
   "execution_count": 68,
   "metadata": {},
   "outputs": [],
   "source": [
    "\n",
    "rho_a = 1.184                           # density of air at 25°C (kg/m3) \n",
    "c = 346.13                              # speed of sound in air at 25°C (m/s)\n",
    "f = 40000                               # frequency (Hz)\n",
    "\n",
    "_lambda = lambda f: c/f                 # wavelength (m)\n",
    "\n",
    "_k = lambda f: 2 * math.pi/_lambda(f)     # wavenumber \n",
    "\n",
    "# Euclidean distance, 2-norm or magnitude of the vector, sqrt of the inner product of a vector with itself \n",
    "_distance = lambda pz, pt: math.sqrt( (pz[0]-pt[0])**2 + (pz[1]-pt[1])**2 + (pz[2]-pt[2])**2 )  \n",
    "\n",
    "# cross product of pz and pt over the distance between pz\n",
    "_sin_theta = lambda pz, pt: math.sqrt( (pz[0]-pt[0])**2 + (pz[1]-pt[1])**2 ) / _distance(pz, pt)  \n",
    "\n",
    "def directivity(sin_theta, k, r=4.5/1000):\n",
    "\n",
    "    # argument of 1st order Bessel function\n",
    "    bessel_J1 = k*r*sin_theta\n",
    "    \n",
    "    # taylor expansion of first order Bessel function over its agrument — J_1(bessel_J1)/bessel_J1\n",
    "    # wolframalpha.com – Series[BesselJ[1,x]/x,{x,0,10}] \n",
    "    taylor_exp = (1/2)-(bessel_J1**2/16)+(bessel_J1**4/384)-(bessel_J1**6/18432)+(bessel_J1**8/1474560)-(bessel_J1**10/176947200)+(bessel_J1**12/29727129600) \n",
    "    \n",
    "    return 2 * taylor_exp\n",
    "\n",
    "\n",
    "def reference_pressure(A=0.17, V=18): \n",
    "    \"\"\"\n",
    "    A — emitter output efficiency (Pa/m*V) \n",
    "    V — excitation signal peak-to-peak amplitude (Vpp)  \n",
    "    \"\"\"\n",
    "    return A * V    \n",
    "\n",
    "def pressure(p_ref, distance, sin_theta, k, r ):\n",
    "    return p_ref * 1/distance * directivity(sin_theta, k, r) * np.exp(1j*k*distance)\n"
   ]
  },
  {
   "cell_type": "code",
   "execution_count": 69,
   "metadata": {},
   "outputs": [
    {
     "name": "stdout",
     "output_type": "stream",
     "text": [
      "Total pressure: 210.58831424823367 Pa – 140.448085448561 dB SPL\n"
     ]
    }
   ],
   "source": [
    "\n",
    "_lambda(40000)\n",
    "_k(40000)\n",
    "r = 4.5/1000\n",
    "\n",
    "z = (0, 0, 0.1) # focal point coordinates [meters]\n",
    "\n",
    "# list of spatial coordinates of phase array of transducer with hexagonal arrangement (diagonal 3) in meters \n",
    "T = hexagon_diameter_to_coordinates(d=3) \n",
    "# print(T)\n",
    "\n",
    "pressures = [ abs( \n",
    "                pressure( \n",
    "                    reference_pressure(), \n",
    "                        _distance(z, t), \n",
    "                        _sin_theta(z, t), \n",
    "                        _k(40000), \n",
    "                        r ) \n",
    "                )   for t in T ]  \n",
    "\n",
    "# print(*pressures, sep='\\n')\n",
    "print(f'Total pressure: {sum(pressures)} Pa – {pascal_to_db_spl(sum(pressures)) } dB SPL')\n"
   ]
  },
  {
   "cell_type": "code",
   "execution_count": 70,
   "metadata": {},
   "outputs": [],
   "source": [
    "# hex(1) \"34.0 Pa — 124.60897842756549 dB SPL\"\n",
    "# hex(2) \"134.66030890167056 Pa — 136.56419221422703 dB SPL\"\n",
    "# hex(3) \"233.98701583137074 Pa — 141.36323525977448 dB SPL\"\n",
    "# hex(7) \"1144.6094034148803 Pa — 155.15254627644873 dB SPL\"\n",
    "# hex(8) \"1550.8818934380347 Pa — 157.79097459900558 dB SPL\"\n",
    "# hex(9) \"1783.4739949904563 Pa — 159.004735711321 dB SPL\""
   ]
  },
  {
   "cell_type": "code",
   "execution_count": 71,
   "metadata": {},
   "outputs": [
    {
     "name": "stdout",
     "output_type": "stream",
     "text": [
      "Total pressure: 3852.9229484553944 Pa – 165.69520656651196 dB SPL\n"
     ]
    }
   ],
   "source": [
    "M = 16\n",
    "N = 16\n",
    "pitch = 0.0105 # (m)\n",
    "\n",
    "z = (0, 0, 0.15) # meters\n",
    "\n",
    "T = rectangular_grid_to_coordinates(M, N, pitch)\n",
    "# print(T)\n",
    "\n",
    "pressures = [ abs( \n",
    "                pressure( \n",
    "                    reference_pressure(A=0.17, V=18), \n",
    "                        _distance(z, t), \n",
    "                        _sin_theta(z, t), \n",
    "                        _k(40000), \n",
    "                        r )\n",
    "                ) for t in T ] \n",
    "\n",
    "# print(*pressures, sep='\\n')\n",
    "print(f'Total pressure: { sum(pressures) } Pa – { pascal_to_db_spl(sum(pressures)) } dB SPL')\n"
   ]
  }
 ],
 "metadata": {
  "kernelspec": {
   "display_name": "py10",
   "language": "python",
   "name": "python3"
  },
  "language_info": {
   "codemirror_mode": {
    "name": "ipython",
    "version": 3
   },
   "file_extension": ".py",
   "mimetype": "text/x-python",
   "name": "python",
   "nbconvert_exporter": "python",
   "pygments_lexer": "ipython3",
   "version": "3.10.9"
  },
  "orig_nbformat": 4
 },
 "nbformat": 4,
 "nbformat_minor": 2
}
